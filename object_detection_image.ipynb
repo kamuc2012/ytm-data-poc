{
 "cells": [
  {
   "cell_type": "markdown",
   "id": "b7469966",
   "metadata": {},
   "source": [
    "# Object Detection - Image"
   ]
  },
  {
   "cell_type": "markdown",
   "id": "93126567",
   "metadata": {},
   "source": [
    "**Install PixelLib and its dependencies**\n",
    "\n",
    "- *pip3 install pycocotools*\n",
    "- *pip3 install pixellib*\n",
    "\n",
    "Download the <a href=\"https://github.com/ayoolaolafenwa/PixelLib/releases/download/0.2.0/pointrend_resnet50.pkl\" target=\"_blank\">PointRend</a> model. This is the code for image segmentation."
   ]
  },
  {
   "cell_type": "code",
   "execution_count": 17,
   "id": "51862ecb",
   "metadata": {},
   "outputs": [],
   "source": [
    "import pixellib\n",
    "from pixellib.torchbackend.instance import instanceSegmentation"
   ]
  },
  {
   "cell_type": "markdown",
   "id": "9af461a3",
   "metadata": {},
   "source": [
    "Read input image from `sample/input-image.jpg` then convert and save image with object identification at `sample/output-image.jpg`"
   ]
  },
  {
   "cell_type": "code",
   "execution_count": 18,
   "id": "66c627d9",
   "metadata": {},
   "outputs": [
    {
     "name": "stderr",
     "output_type": "stream",
     "text": [
      "The checkpoint state_dict contains keys that are not used by the model:\n",
      "  \u001b[35mproposal_generator.anchor_generator.cell_anchors.{0, 1, 2, 3, 4}\u001b[0m\n"
     ]
    }
   ],
   "source": [
    "ins = instanceSegmentation()\n",
    "ins.load_model(\"./models/pointrend_resnet50.pkl\")\n",
    "info = ins.segmentImage(\"./sample/input-image.jpg\", show_bboxes=True, output_image_name=\"./sample/output-image.jpg\")"
   ]
  },
  {
   "cell_type": "markdown",
   "id": "d33c351e",
   "metadata": {},
   "source": [
    "Read what objects were detected in the image"
   ]
  },
  {
   "cell_type": "code",
   "execution_count": 19,
   "id": "238c3a39",
   "metadata": {},
   "outputs": [
    {
     "name": "stdout",
     "output_type": "stream",
     "text": [
      "bowl, knife, spoon, apple, bottle, apple, sink, knife\n"
     ]
    }
   ],
   "source": [
    "print(\", \".join(info[0][\"class_names\"]))"
   ]
  }
 ],
 "metadata": {
  "kernelspec": {
   "display_name": "Python 3 (ipykernel)",
   "language": "python",
   "name": "python3"
  },
  "language_info": {
   "codemirror_mode": {
    "name": "ipython",
    "version": 3
   },
   "file_extension": ".py",
   "mimetype": "text/x-python",
   "name": "python",
   "nbconvert_exporter": "python",
   "pygments_lexer": "ipython3",
   "version": "3.7.13"
  }
 },
 "nbformat": 4,
 "nbformat_minor": 5
}
