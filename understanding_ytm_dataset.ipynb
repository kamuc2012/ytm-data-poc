{
 "cells": [
  {
   "cell_type": "markdown",
   "id": "4ebf0ec9",
   "metadata": {},
   "source": [
    "# Understanding and Browsing Youtube-8m Dataset"
   ]
  },
  {
   "cell_type": "markdown",
   "id": "260b4031",
   "metadata": {},
   "source": [
    "Import required libraries"
   ]
  },
  {
   "cell_type": "code",
   "execution_count": 22,
   "id": "112e0f01",
   "metadata": {},
   "outputs": [],
   "source": [
    "import os\n",
    "import tensorflow as tf\n",
    "os.environ['TF_CPP_MIN_LOG_LEVEL'] = '3'\n",
    "import glob\n",
    "import pandas as pd\n",
    "from IPython.display import YouTubeVideo"
   ]
  },
  {
   "cell_type": "markdown",
   "id": "d063291a",
   "metadata": {},
   "source": [
    "------------"
   ]
  },
  {
   "cell_type": "markdown",
   "id": "05e78e51",
   "metadata": {},
   "source": [
    "Youtube-8m dataset has pre-defined class list."
   ]
  },
  {
   "cell_type": "code",
   "execution_count": 23,
   "id": "cce6e516",
   "metadata": {},
   "outputs": [],
   "source": [
    "vocabulary_data = pd.read_csv('./vocabulary.csv')"
   ]
  },
  {
   "cell_type": "code",
   "execution_count": 24,
   "id": "d23fec39",
   "metadata": {},
   "outputs": [
    {
     "data": {
      "text/html": [
       "<div>\n",
       "<style scoped>\n",
       "    .dataframe tbody tr th:only-of-type {\n",
       "        vertical-align: middle;\n",
       "    }\n",
       "\n",
       "    .dataframe tbody tr th {\n",
       "        vertical-align: top;\n",
       "    }\n",
       "\n",
       "    .dataframe thead th {\n",
       "        text-align: right;\n",
       "    }\n",
       "</style>\n",
       "<table border=\"1\" class=\"dataframe\">\n",
       "  <thead>\n",
       "    <tr style=\"text-align: right;\">\n",
       "      <th></th>\n",
       "      <th>Index</th>\n",
       "      <th>TrainVideoCount</th>\n",
       "      <th>KnowledgeGraphId</th>\n",
       "      <th>Name</th>\n",
       "    </tr>\n",
       "  </thead>\n",
       "  <tbody>\n",
       "    <tr>\n",
       "      <th>0</th>\n",
       "      <td>0</td>\n",
       "      <td>788288</td>\n",
       "      <td>/m/03bt1gh</td>\n",
       "      <td>Game</td>\n",
       "    </tr>\n",
       "    <tr>\n",
       "      <th>1</th>\n",
       "      <td>1</td>\n",
       "      <td>539945</td>\n",
       "      <td>/m/01mw1</td>\n",
       "      <td>Video game</td>\n",
       "    </tr>\n",
       "    <tr>\n",
       "      <th>2</th>\n",
       "      <td>2</td>\n",
       "      <td>415890</td>\n",
       "      <td>/m/07yv9</td>\n",
       "      <td>Vehicle</td>\n",
       "    </tr>\n",
       "    <tr>\n",
       "      <th>3</th>\n",
       "      <td>3</td>\n",
       "      <td>378135</td>\n",
       "      <td>/m/01jddz</td>\n",
       "      <td>Concert</td>\n",
       "    </tr>\n",
       "    <tr>\n",
       "      <th>4</th>\n",
       "      <td>4</td>\n",
       "      <td>286532</td>\n",
       "      <td>/m/09jwl</td>\n",
       "      <td>Musician</td>\n",
       "    </tr>\n",
       "    <tr>\n",
       "      <th>5</th>\n",
       "      <td>5</td>\n",
       "      <td>236948</td>\n",
       "      <td>/m/0215n</td>\n",
       "      <td>Cartoon</td>\n",
       "    </tr>\n",
       "    <tr>\n",
       "      <th>6</th>\n",
       "      <td>6</td>\n",
       "      <td>203343</td>\n",
       "      <td>/m/01350r</td>\n",
       "      <td>Performance art</td>\n",
       "    </tr>\n",
       "    <tr>\n",
       "      <th>7</th>\n",
       "      <td>7</td>\n",
       "      <td>200813</td>\n",
       "      <td>/m/0k4j</td>\n",
       "      <td>Car</td>\n",
       "    </tr>\n",
       "    <tr>\n",
       "      <th>8</th>\n",
       "      <td>8</td>\n",
       "      <td>181579</td>\n",
       "      <td>/m/026bk</td>\n",
       "      <td>Dance</td>\n",
       "    </tr>\n",
       "    <tr>\n",
       "      <th>9</th>\n",
       "      <td>9</td>\n",
       "      <td>156226</td>\n",
       "      <td>/m/0342h</td>\n",
       "      <td>Guitar</td>\n",
       "    </tr>\n",
       "    <tr>\n",
       "      <th>10</th>\n",
       "      <td>10</td>\n",
       "      <td>144667</td>\n",
       "      <td>/m/0d8lm</td>\n",
       "      <td>String instrument</td>\n",
       "    </tr>\n",
       "    <tr>\n",
       "      <th>11</th>\n",
       "      <td>11</td>\n",
       "      <td>135357</td>\n",
       "      <td>/m/02wbm</td>\n",
       "      <td>Food</td>\n",
       "    </tr>\n",
       "    <tr>\n",
       "      <th>12</th>\n",
       "      <td>12</td>\n",
       "      <td>130835</td>\n",
       "      <td>/m/02vx4</td>\n",
       "      <td>Association football</td>\n",
       "    </tr>\n",
       "    <tr>\n",
       "      <th>13</th>\n",
       "      <td>13</td>\n",
       "      <td>125668</td>\n",
       "      <td>/m/05229</td>\n",
       "      <td>Musical ensemble</td>\n",
       "    </tr>\n",
       "    <tr>\n",
       "      <th>14</th>\n",
       "      <td>14</td>\n",
       "      <td>116098</td>\n",
       "      <td>/m/0mdxd</td>\n",
       "      <td>Music video</td>\n",
       "    </tr>\n",
       "    <tr>\n",
       "      <th>15</th>\n",
       "      <td>15</td>\n",
       "      <td>107788</td>\n",
       "      <td>/m/0jbk</td>\n",
       "      <td>Animal</td>\n",
       "    </tr>\n",
       "    <tr>\n",
       "      <th>16</th>\n",
       "      <td>16</td>\n",
       "      <td>98140</td>\n",
       "      <td>/m/0hcr</td>\n",
       "      <td>Animation</td>\n",
       "    </tr>\n",
       "    <tr>\n",
       "      <th>17</th>\n",
       "      <td>17</td>\n",
       "      <td>93443</td>\n",
       "      <td>/m/0410tth</td>\n",
       "      <td>Motorsport</td>\n",
       "    </tr>\n",
       "    <tr>\n",
       "      <th>18</th>\n",
       "      <td>18</td>\n",
       "      <td>90779</td>\n",
       "      <td>/m/068hy</td>\n",
       "      <td>Pet</td>\n",
       "    </tr>\n",
       "    <tr>\n",
       "      <th>19</th>\n",
       "      <td>19</td>\n",
       "      <td>84258</td>\n",
       "      <td>/m/0dfbw</td>\n",
       "      <td>Racing</td>\n",
       "    </tr>\n",
       "    <tr>\n",
       "      <th>20</th>\n",
       "      <td>20</td>\n",
       "      <td>75819</td>\n",
       "      <td>/m/0p57p</td>\n",
       "      <td>Recipe</td>\n",
       "    </tr>\n",
       "    <tr>\n",
       "      <th>21</th>\n",
       "      <td>21</td>\n",
       "      <td>72911</td>\n",
       "      <td>/m/050k8</td>\n",
       "      <td>Mobile phone</td>\n",
       "    </tr>\n",
       "    <tr>\n",
       "      <th>22</th>\n",
       "      <td>22</td>\n",
       "      <td>71218</td>\n",
       "      <td>/m/01mtb</td>\n",
       "      <td>Cooking</td>\n",
       "    </tr>\n",
       "    <tr>\n",
       "      <th>23</th>\n",
       "      <td>23</td>\n",
       "      <td>64884</td>\n",
       "      <td>/m/0169zh</td>\n",
       "      <td>Smartphone</td>\n",
       "    </tr>\n",
       "    <tr>\n",
       "      <th>24</th>\n",
       "      <td>24</td>\n",
       "      <td>64452</td>\n",
       "      <td>/m/02mf1n</td>\n",
       "      <td>Gadget</td>\n",
       "    </tr>\n",
       "  </tbody>\n",
       "</table>\n",
       "</div>"
      ],
      "text/plain": [
       "    Index  TrainVideoCount KnowledgeGraphId                  Name\n",
       "0       0           788288       /m/03bt1gh                  Game\n",
       "1       1           539945         /m/01mw1            Video game\n",
       "2       2           415890         /m/07yv9               Vehicle\n",
       "3       3           378135        /m/01jddz               Concert\n",
       "4       4           286532         /m/09jwl              Musician\n",
       "5       5           236948         /m/0215n               Cartoon\n",
       "6       6           203343        /m/01350r       Performance art\n",
       "7       7           200813          /m/0k4j                   Car\n",
       "8       8           181579         /m/026bk                 Dance\n",
       "9       9           156226         /m/0342h                Guitar\n",
       "10     10           144667         /m/0d8lm     String instrument\n",
       "11     11           135357         /m/02wbm                  Food\n",
       "12     12           130835         /m/02vx4  Association football\n",
       "13     13           125668         /m/05229      Musical ensemble\n",
       "14     14           116098         /m/0mdxd           Music video\n",
       "15     15           107788          /m/0jbk                Animal\n",
       "16     16            98140          /m/0hcr             Animation\n",
       "17     17            93443       /m/0410tth            Motorsport\n",
       "18     18            90779         /m/068hy                   Pet\n",
       "19     19            84258         /m/0dfbw                Racing\n",
       "20     20            75819         /m/0p57p                Recipe\n",
       "21     21            72911         /m/050k8          Mobile phone\n",
       "22     22            71218         /m/01mtb               Cooking\n",
       "23     23            64884        /m/0169zh            Smartphone\n",
       "24     24            64452        /m/02mf1n                Gadget"
      ]
     },
     "execution_count": 24,
     "metadata": {},
     "output_type": "execute_result"
    }
   ],
   "source": [
    "vocabulary_data.head(25)"
   ]
  },
  {
   "cell_type": "code",
   "execution_count": 25,
   "id": "663e8c7a",
   "metadata": {
    "scrolled": true
   },
   "outputs": [
    {
     "name": "stdout",
     "output_type": "stream",
     "text": [
      "<class 'pandas.core.frame.DataFrame'>\n",
      "RangeIndex: 3862 entries, 0 to 3861\n",
      "Data columns (total 4 columns):\n",
      " #   Column            Non-Null Count  Dtype \n",
      "---  ------            --------------  ----- \n",
      " 0   Index             3862 non-null   int64 \n",
      " 1   TrainVideoCount   3862 non-null   int64 \n",
      " 2   KnowledgeGraphId  3862 non-null   object\n",
      " 3   Name              3806 non-null   object\n",
      "dtypes: int64(2), object(2)\n",
      "memory usage: 120.8+ KB\n"
     ]
    }
   ],
   "source": [
    "vocabulary_data.info()"
   ]
  },
  {
   "cell_type": "code",
   "execution_count": 26,
   "id": "63f89e28",
   "metadata": {
    "scrolled": true
   },
   "outputs": [
    {
     "data": {
      "text/html": [
       "<div>\n",
       "<style scoped>\n",
       "    .dataframe tbody tr th:only-of-type {\n",
       "        vertical-align: middle;\n",
       "    }\n",
       "\n",
       "    .dataframe tbody tr th {\n",
       "        vertical-align: top;\n",
       "    }\n",
       "\n",
       "    .dataframe thead th {\n",
       "        text-align: right;\n",
       "    }\n",
       "</style>\n",
       "<table border=\"1\" class=\"dataframe\">\n",
       "  <thead>\n",
       "    <tr style=\"text-align: right;\">\n",
       "      <th></th>\n",
       "      <th>Index</th>\n",
       "      <th>TrainVideoCount</th>\n",
       "    </tr>\n",
       "  </thead>\n",
       "  <tbody>\n",
       "    <tr>\n",
       "      <th>count</th>\n",
       "      <td>3862.000000</td>\n",
       "      <td>3862.000000</td>\n",
       "    </tr>\n",
       "    <tr>\n",
       "      <th>mean</th>\n",
       "      <td>1930.500000</td>\n",
       "      <td>3032.527188</td>\n",
       "    </tr>\n",
       "    <tr>\n",
       "      <th>std</th>\n",
       "      <td>1115.007698</td>\n",
       "      <td>21182.048375</td>\n",
       "    </tr>\n",
       "    <tr>\n",
       "      <th>min</th>\n",
       "      <td>0.000000</td>\n",
       "      <td>123.000000</td>\n",
       "    </tr>\n",
       "    <tr>\n",
       "      <th>25%</th>\n",
       "      <td>965.250000</td>\n",
       "      <td>234.000000</td>\n",
       "    </tr>\n",
       "    <tr>\n",
       "      <th>50%</th>\n",
       "      <td>1930.500000</td>\n",
       "      <td>440.500000</td>\n",
       "    </tr>\n",
       "    <tr>\n",
       "      <th>75%</th>\n",
       "      <td>2895.750000</td>\n",
       "      <td>1199.750000</td>\n",
       "    </tr>\n",
       "    <tr>\n",
       "      <th>max</th>\n",
       "      <td>3861.000000</td>\n",
       "      <td>788288.000000</td>\n",
       "    </tr>\n",
       "  </tbody>\n",
       "</table>\n",
       "</div>"
      ],
      "text/plain": [
       "             Index  TrainVideoCount\n",
       "count  3862.000000      3862.000000\n",
       "mean   1930.500000      3032.527188\n",
       "std    1115.007698     21182.048375\n",
       "min       0.000000       123.000000\n",
       "25%     965.250000       234.000000\n",
       "50%    1930.500000       440.500000\n",
       "75%    2895.750000      1199.750000\n",
       "max    3861.000000    788288.000000"
      ]
     },
     "execution_count": 26,
     "metadata": {},
     "output_type": "execute_result"
    }
   ],
   "source": [
    "vocabulary_data.describe()"
   ]
  },
  {
   "cell_type": "markdown",
   "id": "7d0b0b86",
   "metadata": {},
   "source": [
    "-------------------- "
   ]
  },
  {
   "cell_type": "markdown",
   "id": "4abdb0e9",
   "metadata": {},
   "source": [
    "The video-level dataset that provides video-level features is stored as a tensorflow. There are around 7,689 TFRecords. The total size is around 31GB. Let's browse one of the record and filter only **Cooking** category data.\n",
    "\n",
    "Note: Cooking has class/label id 22 which we referef from vocabulary file."
   ]
  },
  {
   "cell_type": "code",
   "execution_count": 27,
   "id": "2340352f",
   "metadata": {},
   "outputs": [],
   "source": [
    "record = \"./train3815.tfrecord\""
   ]
  },
  {
   "cell_type": "code",
   "execution_count": 28,
   "id": "e33c1323",
   "metadata": {},
   "outputs": [],
   "source": [
    "vid_ids = []\n",
    "labels = []\n",
    "rgb = []\n",
    "audio = []"
   ]
  },
  {
   "cell_type": "code",
   "execution_count": 29,
   "id": "39887683",
   "metadata": {},
   "outputs": [],
   "source": [
    "for example in tf.compat.v1.python_io.tf_record_iterator(record):\n",
    "    seq_example = tf.train.Example.FromString(example)\n",
    "    # filter videos containing \"Cooking\" label\n",
    "    if 22 in seq_example.features.feature['labels'].int64_list.value:\n",
    "        vid_ids.append(seq_example.features.feature['id'].bytes_list.value[0].decode(encoding='UTF-8'))\n",
    "        labels.append(seq_example.features.feature['labels'].int64_list.value)\n",
    "        rgb.append(seq_example.features.feature['mean_rgb'].float_list.value)\n",
    "        audio.append(seq_example.features.feature['mean_audio'].float_list.value)"
   ]
  },
  {
   "cell_type": "code",
   "execution_count": 30,
   "id": "5e4166c7",
   "metadata": {},
   "outputs": [
    {
     "name": "stdout",
     "output_type": "stream",
     "text": [
      "Number of videos in this tfrecord:  21\n",
      "Number of labels in this tfrecord:  21\n"
     ]
    }
   ],
   "source": [
    "print('Number of videos in this tfrecord: ',len(vid_ids))\n",
    "print ('Number of labels in this tfrecord: ', len (labels))"
   ]
  },
  {
   "cell_type": "code",
   "execution_count": 31,
   "id": "bb9a8dc0",
   "metadata": {},
   "outputs": [
    {
     "data": {
      "text/plain": [
       "['ZU9H',\n",
       " 'Xz9H',\n",
       " 'yU9H',\n",
       " '499H',\n",
       " '9u9H',\n",
       " 'GC9H',\n",
       " 'ij9H',\n",
       " 'MJ9H',\n",
       " '7b9H',\n",
       " 'Kp9H',\n",
       " 'uc9H',\n",
       " 'x29H',\n",
       " 'hp9H',\n",
       " 'ho9H',\n",
       " 'Vh9H',\n",
       " 'SI9H',\n",
       " 'Wr9H',\n",
       " 'IB9H',\n",
       " 'ea9H',\n",
       " 'jI9H',\n",
       " '6f9H']"
      ]
     },
     "execution_count": 31,
     "metadata": {},
     "output_type": "execute_result"
    }
   ],
   "source": [
    "vid_ids"
   ]
  },
  {
   "cell_type": "markdown",
   "id": "3c7babef",
   "metadata": {},
   "source": [
    "-----------------------"
   ]
  },
  {
   "cell_type": "markdown",
   "id": "4a4d2894",
   "metadata": {},
   "source": [
    "You'll notice it's not clear what the video ids mean since they have been anonymized. I've found there is a place to translate this id for a few of the examples and you can use the following:\n",
    "\n",
    "curl http://data.yt8m.org/2/j/i/op/op00.js\n",
    "\n",
    "I converted SI9H id by checking on http://data.yt8m.org/2/j/i/SI/SI9H.js which returned actual youtube id tknvPTMGJEg.\n",
    "\n",
    "Let's preview the video then."
   ]
  },
  {
   "cell_type": "code",
   "execution_count": 32,
   "id": "75aae431",
   "metadata": {},
   "outputs": [
    {
     "data": {
      "image/jpeg": "[encoded data removed]",
      "text/html": [
       "\n",
       "        <iframe\n",
       "            width=\"400\"\n",
       "            height=\"300\"\n",
       "            src=\"https://www.youtube.com/embed/tknvPTMGJEg\"\n",
       "            frameborder=\"0\"\n",
       "            allowfullscreen\n",
       "            \n",
       "        ></iframe>\n",
       "        "
      ],
      "text/plain": [
       "<IPython.lib.display.YouTubeVideo at 0x7fd8a6e1d0d0>"
      ]
     },
     "execution_count": 32,
     "metadata": {},
     "output_type": "execute_result"
    }
   ],
   "source": [
    "YouTubeVideo('tknvPTMGJEg')"
   ]
  },
  {
   "cell_type": "markdown",
   "id": "46b70b74",
   "metadata": {},
   "source": [
    "Let's download the video"
   ]
  },
  {
   "cell_type": "code",
   "execution_count": 33,
   "id": "df0ce5f2",
   "metadata": {},
   "outputs": [
    {
     "data": {
      "text/plain": [
       "'/home/hexa/Jupyter/ytm-data-poc/./downloaded-video.mp4/torta Margherita PIUMA ricetta passo passo tutorial base per decorazioni.mp4'"
      ]
     },
     "execution_count": 33,
     "metadata": {},
     "output_type": "execute_result"
    }
   ],
   "source": [
    "from pytube import YouTube\n",
    "\n",
    "yt = YouTube(\"https://www.youtube.com/watch?v=tknvPTMGJEg\")\n",
    "yt.streams.filter(file_extension=\"mp4\").get_by_resolution(\"360p\").download(\"./downloaded-video.mp4\")"
   ]
  },
  {
   "cell_type": "markdown",
   "id": "ec2abdde",
   "metadata": {},
   "source": [
    "-------------"
   ]
  },
  {
   "cell_type": "markdown",
   "id": "c22f8c80",
   "metadata": {},
   "source": [
    "# Next Steps"
   ]
  },
  {
   "cell_type": "markdown",
   "id": "5acc39e6",
   "metadata": {},
   "source": [
    "Next, we need to train our model with cooking dataset only, abstract steps will be as follows:\n",
    "\n",
    "- Train the model on downloaded dataset for cooking only\n",
    "- Write script to get input from user for any youtube video\n",
    "- Download the video and convert downloaded video into frames\n",
    "- Run the trained model to identify labels for the video"
   ]
  }
 ],
 "metadata": {
  "kernelspec": {
   "display_name": "Python 3 (ipykernel)",
   "language": "python",
   "name": "python3"
  },
  "language_info": {
   "codemirror_mode": {
    "name": "ipython",
    "version": 3
   },
   "file_extension": ".py",
   "mimetype": "text/x-python",
   "name": "python",
   "nbconvert_exporter": "python",
   "pygments_lexer": "ipython3",
   "version": "3.7.13"
  }
 },
 "nbformat": 4,
 "nbformat_minor": 5
}
